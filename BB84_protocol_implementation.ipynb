{
  "nbformat": 4,
  "nbformat_minor": 0,
  "metadata": {
    "colab": {
      "provenance": [],
      "authorship_tag": "ABX9TyP1KvU+cuuLgRciKghiOpoy",
      "include_colab_link": true
    },
    "kernelspec": {
      "name": "python3",
      "display_name": "Python 3"
    },
    "language_info": {
      "name": "python"
    }
  },
  "cells": [
    {
      "cell_type": "markdown",
      "metadata": {
        "id": "view-in-github",
        "colab_type": "text"
      },
      "source": [
        "<a href=\"https://colab.research.google.com/github/ABR-2005/Secure-quantum-key-distribution-using-the-BB84-protocol/blob/main/BB84_protocol_implementation.ipynb\" target=\"_parent\"><img src=\"https://colab.research.google.com/assets/colab-badge.svg\" alt=\"Open In Colab\"/></a>"
      ]
    },
    {
      "cell_type": "code",
      "source": [
        "!pip install qiskit\n"
      ],
      "metadata": {
        "id": "cgY2iLsd4efS",
        "colab": {
          "base_uri": "https://localhost:8080/"
        },
        "outputId": "b889564d-a907-4be6-906f-2b5c37782b9f"
      },
      "execution_count": 12,
      "outputs": [
        {
          "output_type": "stream",
          "name": "stdout",
          "text": [
            "Requirement already satisfied: qiskit in /usr/local/lib/python3.10/dist-packages (1.2.4)\n",
            "Requirement already satisfied: rustworkx>=0.15.0 in /usr/local/lib/python3.10/dist-packages (from qiskit) (0.15.1)\n",
            "Requirement already satisfied: numpy<3,>=1.17 in /usr/local/lib/python3.10/dist-packages (from qiskit) (1.26.4)\n",
            "Requirement already satisfied: scipy>=1.5 in /usr/local/lib/python3.10/dist-packages (from qiskit) (1.13.1)\n",
            "Requirement already satisfied: sympy>=1.3 in /usr/local/lib/python3.10/dist-packages (from qiskit) (1.13.1)\n",
            "Requirement already satisfied: dill>=0.3 in /usr/local/lib/python3.10/dist-packages (from qiskit) (0.3.9)\n",
            "Requirement already satisfied: python-dateutil>=2.8.0 in /usr/local/lib/python3.10/dist-packages (from qiskit) (2.8.2)\n",
            "Requirement already satisfied: stevedore>=3.0.0 in /usr/local/lib/python3.10/dist-packages (from qiskit) (5.4.0)\n",
            "Requirement already satisfied: typing-extensions in /usr/local/lib/python3.10/dist-packages (from qiskit) (4.12.2)\n",
            "Requirement already satisfied: symengine<0.14,>=0.11 in /usr/local/lib/python3.10/dist-packages (from qiskit) (0.13.0)\n",
            "Requirement already satisfied: six>=1.5 in /usr/local/lib/python3.10/dist-packages (from python-dateutil>=2.8.0->qiskit) (1.16.0)\n",
            "Requirement already satisfied: pbr>=2.0.0 in /usr/local/lib/python3.10/dist-packages (from stevedore>=3.0.0->qiskit) (6.1.0)\n",
            "Requirement already satisfied: mpmath<1.4,>=1.1.0 in /usr/local/lib/python3.10/dist-packages (from sympy>=1.3->qiskit) (1.3.0)\n"
          ]
        }
      ]
    },
    {
      "cell_type": "code",
      "source": [
        "!pip uninstall -y qiskit\n"
      ],
      "metadata": {
        "id": "C_ueorVv3ePn",
        "colab": {
          "base_uri": "https://localhost:8080/"
        },
        "outputId": "387ccf5b-4d5d-49b9-c3f4-e36d34323c28"
      },
      "execution_count": 13,
      "outputs": [
        {
          "output_type": "stream",
          "name": "stdout",
          "text": [
            "Found existing installation: qiskit 1.2.4\n",
            "Uninstalling qiskit-1.2.4:\n",
            "  Successfully uninstalled qiskit-1.2.4\n"
          ]
        }
      ]
    },
    {
      "cell_type": "code",
      "source": [
        "!pip install qiskit[all]\n"
      ],
      "metadata": {
        "colab": {
          "base_uri": "https://localhost:8080/",
          "height": 758
        },
        "id": "KlwFufzj7W3P",
        "outputId": "24e5f91d-f1cd-444f-885b-a901668c4256"
      },
      "execution_count": 14,
      "outputs": [
        {
          "output_type": "stream",
          "name": "stdout",
          "text": [
            "Collecting qiskit[all]\n",
            "  Using cached qiskit-1.2.4-cp38-abi3-manylinux_2_17_x86_64.manylinux2014_x86_64.whl.metadata (12 kB)\n",
            "Requirement already satisfied: rustworkx>=0.15.0 in /usr/local/lib/python3.10/dist-packages (from qiskit[all]) (0.15.1)\n",
            "Requirement already satisfied: numpy<3,>=1.17 in /usr/local/lib/python3.10/dist-packages (from qiskit[all]) (1.26.4)\n",
            "Requirement already satisfied: scipy>=1.5 in /usr/local/lib/python3.10/dist-packages (from qiskit[all]) (1.13.1)\n",
            "Requirement already satisfied: sympy>=1.3 in /usr/local/lib/python3.10/dist-packages (from qiskit[all]) (1.13.1)\n",
            "Requirement already satisfied: dill>=0.3 in /usr/local/lib/python3.10/dist-packages (from qiskit[all]) (0.3.9)\n",
            "Requirement already satisfied: python-dateutil>=2.8.0 in /usr/local/lib/python3.10/dist-packages (from qiskit[all]) (2.8.2)\n",
            "Requirement already satisfied: stevedore>=3.0.0 in /usr/local/lib/python3.10/dist-packages (from qiskit[all]) (5.4.0)\n",
            "Requirement already satisfied: typing-extensions in /usr/local/lib/python3.10/dist-packages (from qiskit[all]) (4.12.2)\n",
            "Requirement already satisfied: symengine<0.14,>=0.11 in /usr/local/lib/python3.10/dist-packages (from qiskit[all]) (0.13.0)\n",
            "Requirement already satisfied: six>=1.5 in /usr/local/lib/python3.10/dist-packages (from python-dateutil>=2.8.0->qiskit[all]) (1.16.0)\n",
            "Requirement already satisfied: pbr>=2.0.0 in /usr/local/lib/python3.10/dist-packages (from stevedore>=3.0.0->qiskit[all]) (6.1.0)\n",
            "Requirement already satisfied: mpmath<1.4,>=1.1.0 in /usr/local/lib/python3.10/dist-packages (from sympy>=1.3->qiskit[all]) (1.3.0)\n",
            "Requirement already satisfied: qiskit-qasm3-import>=0.1.0 in /usr/local/lib/python3.10/dist-packages (from qiskit[all]) (0.5.1)\n",
            "Requirement already satisfied: matplotlib>=3.3 in /usr/local/lib/python3.10/dist-packages (from qiskit[all]) (3.8.0)\n",
            "Requirement already satisfied: pydot in /usr/local/lib/python3.10/dist-packages (from qiskit[all]) (3.0.2)\n",
            "Requirement already satisfied: Pillow>=4.2.1 in /usr/local/lib/python3.10/dist-packages (from qiskit[all]) (11.0.0)\n",
            "Requirement already satisfied: pylatexenc>=1.4 in /usr/local/lib/python3.10/dist-packages (from qiskit[all]) (2.10)\n",
            "Requirement already satisfied: seaborn>=0.9.0 in /usr/local/lib/python3.10/dist-packages (from qiskit[all]) (0.13.2)\n",
            "Requirement already satisfied: python-constraint>=1.4 in /usr/local/lib/python3.10/dist-packages (from qiskit[all]) (1.4.0)\n",
            "Requirement already satisfied: z3-solver>=4.7 in /usr/local/lib/python3.10/dist-packages (from qiskit[all]) (4.13.3.0)\n",
            "Requirement already satisfied: contourpy>=1.0.1 in /usr/local/lib/python3.10/dist-packages (from matplotlib>=3.3->qiskit[all]) (1.3.1)\n",
            "Requirement already satisfied: cycler>=0.10 in /usr/local/lib/python3.10/dist-packages (from matplotlib>=3.3->qiskit[all]) (0.12.1)\n",
            "Requirement already satisfied: fonttools>=4.22.0 in /usr/local/lib/python3.10/dist-packages (from matplotlib>=3.3->qiskit[all]) (4.55.0)\n",
            "Requirement already satisfied: kiwisolver>=1.0.1 in /usr/local/lib/python3.10/dist-packages (from matplotlib>=3.3->qiskit[all]) (1.4.7)\n",
            "Requirement already satisfied: packaging>=20.0 in /usr/local/lib/python3.10/dist-packages (from matplotlib>=3.3->qiskit[all]) (24.2)\n",
            "Requirement already satisfied: pyparsing>=2.3.1 in /usr/local/lib/python3.10/dist-packages (from matplotlib>=3.3->qiskit[all]) (3.2.0)\n",
            "Requirement already satisfied: openqasm3<2.0,>=0.4 in /usr/local/lib/python3.10/dist-packages (from openqasm3[parser]<2.0,>=0.4->qiskit-qasm3-import>=0.1.0->qiskit[all]) (1.0.0)\n",
            "Requirement already satisfied: pandas>=1.2 in /usr/local/lib/python3.10/dist-packages (from seaborn>=0.9.0->qiskit[all]) (2.2.2)\n",
            "Requirement already satisfied: antlr4-python3-runtime<4.14,>=4.7 in /usr/local/lib/python3.10/dist-packages (from openqasm3[parser]<2.0,>=0.4->qiskit-qasm3-import>=0.1.0->qiskit[all]) (4.13.2)\n",
            "Requirement already satisfied: pytz>=2020.1 in /usr/local/lib/python3.10/dist-packages (from pandas>=1.2->seaborn>=0.9.0->qiskit[all]) (2024.2)\n",
            "Requirement already satisfied: tzdata>=2022.7 in /usr/local/lib/python3.10/dist-packages (from pandas>=1.2->seaborn>=0.9.0->qiskit[all]) (2024.2)\n",
            "Using cached qiskit-1.2.4-cp38-abi3-manylinux_2_17_x86_64.manylinux2014_x86_64.whl (4.8 MB)\n",
            "Installing collected packages: qiskit\n",
            "Successfully installed qiskit-1.2.4\n"
          ]
        },
        {
          "output_type": "display_data",
          "data": {
            "application/vnd.colab-display-data+json": {
              "pip_warning": {
                "packages": [
                  "qiskit"
                ]
              },
              "id": "8506a6f09605406c82fbe1095317ec6c"
            }
          },
          "metadata": {}
        }
      ]
    },
    {
      "cell_type": "code",
      "source": [
        "!pip install qiskit-aer\n"
      ],
      "metadata": {
        "colab": {
          "base_uri": "https://localhost:8080/"
        },
        "id": "QaMdOcme7lBu",
        "outputId": "d4318734-ff16-41a3-f5a4-a3a9be726a94"
      },
      "execution_count": 15,
      "outputs": [
        {
          "output_type": "stream",
          "name": "stdout",
          "text": [
            "Requirement already satisfied: qiskit-aer in /usr/local/lib/python3.10/dist-packages (0.15.1)\n",
            "Requirement already satisfied: qiskit>=1.1.0 in /usr/local/lib/python3.10/dist-packages (from qiskit-aer) (1.2.4)\n",
            "Requirement already satisfied: numpy>=1.16.3 in /usr/local/lib/python3.10/dist-packages (from qiskit-aer) (1.26.4)\n",
            "Requirement already satisfied: scipy>=1.0 in /usr/local/lib/python3.10/dist-packages (from qiskit-aer) (1.13.1)\n",
            "Requirement already satisfied: psutil>=5 in /usr/local/lib/python3.10/dist-packages (from qiskit-aer) (5.9.5)\n",
            "Requirement already satisfied: rustworkx>=0.15.0 in /usr/local/lib/python3.10/dist-packages (from qiskit>=1.1.0->qiskit-aer) (0.15.1)\n",
            "Requirement already satisfied: sympy>=1.3 in /usr/local/lib/python3.10/dist-packages (from qiskit>=1.1.0->qiskit-aer) (1.13.1)\n",
            "Requirement already satisfied: dill>=0.3 in /usr/local/lib/python3.10/dist-packages (from qiskit>=1.1.0->qiskit-aer) (0.3.9)\n",
            "Requirement already satisfied: python-dateutil>=2.8.0 in /usr/local/lib/python3.10/dist-packages (from qiskit>=1.1.0->qiskit-aer) (2.8.2)\n",
            "Requirement already satisfied: stevedore>=3.0.0 in /usr/local/lib/python3.10/dist-packages (from qiskit>=1.1.0->qiskit-aer) (5.4.0)\n",
            "Requirement already satisfied: typing-extensions in /usr/local/lib/python3.10/dist-packages (from qiskit>=1.1.0->qiskit-aer) (4.12.2)\n",
            "Requirement already satisfied: symengine<0.14,>=0.11 in /usr/local/lib/python3.10/dist-packages (from qiskit>=1.1.0->qiskit-aer) (0.13.0)\n",
            "Requirement already satisfied: six>=1.5 in /usr/local/lib/python3.10/dist-packages (from python-dateutil>=2.8.0->qiskit>=1.1.0->qiskit-aer) (1.16.0)\n",
            "Requirement already satisfied: pbr>=2.0.0 in /usr/local/lib/python3.10/dist-packages (from stevedore>=3.0.0->qiskit>=1.1.0->qiskit-aer) (6.1.0)\n",
            "Requirement already satisfied: mpmath<1.4,>=1.1.0 in /usr/local/lib/python3.10/dist-packages (from sympy>=1.3->qiskit>=1.1.0->qiskit-aer) (1.3.0)\n"
          ]
        }
      ]
    },
    {
      "cell_type": "code",
      "source": [
        "!pip install qiskit-aer  # Reinstalling qiskit-aer to ensure it's available\n",
        "from qiskit_aer import Aer  # Importing Aer directly from qiskit_aer\n",
        "from qiskit import QuantumCircuit\n",
        "print(Aer.backends())"
      ],
      "metadata": {
        "colab": {
          "base_uri": "https://localhost:8080/"
        },
        "id": "_ZJA_yge7zUt",
        "outputId": "460f49db-0b73-4db4-d459-2bc0ef4f73bf"
      },
      "execution_count": 16,
      "outputs": [
        {
          "output_type": "stream",
          "name": "stdout",
          "text": [
            "Requirement already satisfied: qiskit-aer in /usr/local/lib/python3.10/dist-packages (0.15.1)\n",
            "Requirement already satisfied: qiskit>=1.1.0 in /usr/local/lib/python3.10/dist-packages (from qiskit-aer) (1.2.4)\n",
            "Requirement already satisfied: numpy>=1.16.3 in /usr/local/lib/python3.10/dist-packages (from qiskit-aer) (1.26.4)\n",
            "Requirement already satisfied: scipy>=1.0 in /usr/local/lib/python3.10/dist-packages (from qiskit-aer) (1.13.1)\n",
            "Requirement already satisfied: psutil>=5 in /usr/local/lib/python3.10/dist-packages (from qiskit-aer) (5.9.5)\n",
            "Requirement already satisfied: rustworkx>=0.15.0 in /usr/local/lib/python3.10/dist-packages (from qiskit>=1.1.0->qiskit-aer) (0.15.1)\n",
            "Requirement already satisfied: sympy>=1.3 in /usr/local/lib/python3.10/dist-packages (from qiskit>=1.1.0->qiskit-aer) (1.13.1)\n",
            "Requirement already satisfied: dill>=0.3 in /usr/local/lib/python3.10/dist-packages (from qiskit>=1.1.0->qiskit-aer) (0.3.9)\n",
            "Requirement already satisfied: python-dateutil>=2.8.0 in /usr/local/lib/python3.10/dist-packages (from qiskit>=1.1.0->qiskit-aer) (2.8.2)\n",
            "Requirement already satisfied: stevedore>=3.0.0 in /usr/local/lib/python3.10/dist-packages (from qiskit>=1.1.0->qiskit-aer) (5.4.0)\n",
            "Requirement already satisfied: typing-extensions in /usr/local/lib/python3.10/dist-packages (from qiskit>=1.1.0->qiskit-aer) (4.12.2)\n",
            "Requirement already satisfied: symengine<0.14,>=0.11 in /usr/local/lib/python3.10/dist-packages (from qiskit>=1.1.0->qiskit-aer) (0.13.0)\n",
            "Requirement already satisfied: six>=1.5 in /usr/local/lib/python3.10/dist-packages (from python-dateutil>=2.8.0->qiskit>=1.1.0->qiskit-aer) (1.16.0)\n",
            "Requirement already satisfied: pbr>=2.0.0 in /usr/local/lib/python3.10/dist-packages (from stevedore>=3.0.0->qiskit>=1.1.0->qiskit-aer) (6.1.0)\n",
            "Requirement already satisfied: mpmath<1.4,>=1.1.0 in /usr/local/lib/python3.10/dist-packages (from sympy>=1.3->qiskit>=1.1.0->qiskit-aer) (1.3.0)\n",
            "[AerSimulator('aer_simulator'), AerSimulator('aer_simulator_statevector'), AerSimulator('aer_simulator_density_matrix'), AerSimulator('aer_simulator_stabilizer'), AerSimulator('aer_simulator_matrix_product_state'), AerSimulator('aer_simulator_extended_stabilizer'), AerSimulator('aer_simulator_unitary'), AerSimulator('aer_simulator_superop'), QasmSimulator('qasm_simulator'), StatevectorSimulator('statevector_simulator'), UnitarySimulator('unitary_simulator')]\n"
          ]
        }
      ]
    },
    {
      "cell_type": "code",
      "source": [
        "import matplotlib as mpl\n",
        "import numpy as np\n",
        "import matplotlib.pyplot as plt\n",
        "from qiskit import QuantumCircuit, transpile, assemble\n",
        "from qiskit_aer import Aer  # Import Aer from qiskit_aer instead of qiskit\n",
        "from qiskit.visualization import plot_histogram, plot_bloch_multivector"
      ],
      "metadata": {
        "id": "3cJpo1Ut8Egn"
      },
      "execution_count": 17,
      "outputs": []
    },
    {
      "cell_type": "markdown",
      "source": [
        "WITHOUT INTERCEPTION\n"
      ],
      "metadata": {
        "id": "n2HO0O45AGZx"
      }
    },
    {
      "cell_type": "code",
      "source": [
        "qc = QuantumCircuit(1,1)\n",
        "# Alice prepares qubit in state |+>\n",
        "qc.h(0)\n",
        "qc.barrier()\n",
        "# Alice now sends the qubit to Bob\n",
        "# who measures it in the X-basis\n",
        "qc.h(0)\n",
        "qc.measure(0,0)\n",
        "# Draw and simulate circuit\n",
        "display(qc.draw())\n",
        "aer_sim = Aer.get_backend('aer_simulator')\n",
        "# Pass the QuantumCircuit directly to run, not the assembled QasmQobj\n",
        "job = aer_sim.run(qc,shots=256)\n",
        "plot_histogram(job.result().get_counts())"
      ],
      "metadata": {
        "colab": {
          "base_uri": "https://localhost:8080/",
          "height": 957
        },
        "id": "ucgmViEA8co8",
        "outputId": "dd4f361c-f370-4a2e-dbfb-09d913a63367"
      },
      "execution_count": 18,
      "outputs": [
        {
          "output_type": "display_data",
          "data": {
            "text/plain": [
              "     ┌───┐ ░ ┌───┐┌─┐\n",
              "  q: ┤ H ├─░─┤ H ├┤M├\n",
              "     └───┘ ░ └───┘└╥┘\n",
              "c: 1/══════════════╩═\n",
              "                   0 "
            ],
            "text/html": [
              "<pre style=\"word-wrap: normal;white-space: pre;background: #fff0;line-height: 1.1;font-family: &quot;Courier New&quot;,Courier,monospace\">     ┌───┐ ░ ┌───┐┌─┐\n",
              "  q: ┤ H ├─░─┤ H ├┤M├\n",
              "     └───┘ ░ └───┘└╥┘\n",
              "c: 1/══════════════╩═\n",
              "                   0 </pre>"
            ]
          },
          "metadata": {}
        },
        {
          "output_type": "stream",
          "name": "stderr",
          "text": [
            "WARNING:matplotlib.font_manager:findfont: Font family 'Georgia' not found.\n",
            "WARNING:matplotlib.font_manager:findfont: Font family 'Georgia' not found.\n",
            "WARNING:matplotlib.font_manager:findfont: Font family 'Georgia' not found.\n",
            "WARNING:matplotlib.font_manager:findfont: Font family 'Georgia' not found.\n",
            "WARNING:matplotlib.font_manager:findfont: Font family 'Georgia' not found.\n",
            "WARNING:matplotlib.font_manager:findfont: Font family 'Georgia' not found.\n",
            "WARNING:matplotlib.font_manager:findfont: Font family 'Georgia' not found.\n",
            "WARNING:matplotlib.font_manager:findfont: Font family 'Georgia' not found.\n",
            "WARNING:matplotlib.font_manager:findfont: Font family 'Georgia' not found.\n",
            "WARNING:matplotlib.font_manager:findfont: Font family 'Georgia' not found.\n",
            "WARNING:matplotlib.font_manager:findfont: Font family 'Georgia' not found.\n",
            "WARNING:matplotlib.font_manager:findfont: Font family 'Georgia' not found.\n",
            "WARNING:matplotlib.font_manager:findfont: Font family 'Georgia' not found.\n",
            "WARNING:matplotlib.font_manager:findfont: Font family 'Georgia' not found.\n",
            "WARNING:matplotlib.font_manager:findfont: Font family 'Georgia' not found.\n",
            "WARNING:matplotlib.font_manager:findfont: Font family 'Georgia' not found.\n",
            "WARNING:matplotlib.font_manager:findfont: Font family 'Georgia' not found.\n",
            "WARNING:matplotlib.font_manager:findfont: Font family 'Georgia' not found.\n",
            "WARNING:matplotlib.font_manager:findfont: Font family 'Georgia' not found.\n",
            "WARNING:matplotlib.font_manager:findfont: Font family 'Georgia' not found.\n",
            "WARNING:matplotlib.font_manager:findfont: Font family 'Georgia' not found.\n",
            "WARNING:matplotlib.font_manager:findfont: Font family 'Georgia' not found.\n",
            "WARNING:matplotlib.font_manager:findfont: Font family 'Georgia' not found.\n",
            "WARNING:matplotlib.font_manager:findfont: Font family 'Georgia' not found.\n",
            "WARNING:matplotlib.font_manager:findfont: Font family 'Georgia' not found.\n",
            "WARNING:matplotlib.font_manager:findfont: Font family 'Georgia' not found.\n"
          ]
        },
        {
          "output_type": "execute_result",
          "data": {
            "text/plain": [
              "<Figure size 640x480 with 1 Axes>"
            ],
            "image/png": "[encoded data removed]"
          },
          "metadata": {},
          "execution_count": 18
        }
      ]
    },
    {
      "cell_type": "markdown",
      "source": [
        "WITH INTERCEPTION\n"
      ],
      "metadata": {
        "id": "-WSCycTIAVte"
      }
    },
    {
      "cell_type": "code",
      "source": [
        "qc = QuantumCircuit(1,1)\n",
        "# Alice prepares qubit in state |+>\n",
        "qc.h(0)\n",
        "# Alice now sends the qubit to Bob\n",
        "# but Eve intercepts and tries to read it\n",
        "qc.measure(0, 0)\n",
        "qc.barrier()\n",
        "# Eve then passes this on to Bob\n",
        "# who measures it in the X-basis\n",
        "qc.h(0)\n",
        "qc.measure(0,0)\n",
        "\n",
        "# Draw and simulate circuit\n",
        "display(qc.draw())\n",
        "aer_sim = Aer.get_backend('aer_simulator')\n",
        "# Pass the QuantumCircuit directly to run, not the assembled QasmQobj\n",
        "# The shots parameter should be passed as a keyword argument\n",
        "job = aer_sim.run(qc, shots=256)\n",
        "plot_histogram(job.result().get_counts())"
      ],
      "metadata": {
        "colab": {
          "base_uri": "https://localhost:8080/",
          "height": 1000
        },
        "id": "LAHlcY1x8qmm",
        "outputId": "92a061b6-dcf2-4fc3-a0fa-4c3b7b3c18ef"
      },
      "execution_count": 19,
      "outputs": [
        {
          "output_type": "display_data",
          "data": {
            "text/plain": [
              "     ┌───┐┌─┐ ░ ┌───┐┌─┐\n",
              "  q: ┤ H ├┤M├─░─┤ H ├┤M├\n",
              "     └───┘└╥┘ ░ └───┘└╥┘\n",
              "c: 1/══════╩══════════╩═\n",
              "           0          0 "
            ],
            "text/html": [
              "<pre style=\"word-wrap: normal;white-space: pre;background: #fff0;line-height: 1.1;font-family: &quot;Courier New&quot;,Courier,monospace\">     ┌───┐┌─┐ ░ ┌───┐┌─┐\n",
              "  q: ┤ H ├┤M├─░─┤ H ├┤M├\n",
              "     └───┘└╥┘ ░ └───┘└╥┘\n",
              "c: 1/══════╩══════════╩═\n",
              "           0          0 </pre>"
            ]
          },
          "metadata": {}
        },
        {
          "output_type": "stream",
          "name": "stderr",
          "text": [
            "WARNING:matplotlib.font_manager:findfont: Font family 'Georgia' not found.\n",
            "WARNING:matplotlib.font_manager:findfont: Font family 'Georgia' not found.\n",
            "WARNING:matplotlib.font_manager:findfont: Font family 'Georgia' not found.\n",
            "WARNING:matplotlib.font_manager:findfont: Font family 'Georgia' not found.\n",
            "WARNING:matplotlib.font_manager:findfont: Font family 'Georgia' not found.\n",
            "WARNING:matplotlib.font_manager:findfont: Font family 'Georgia' not found.\n",
            "WARNING:matplotlib.font_manager:findfont: Font family 'Georgia' not found.\n",
            "WARNING:matplotlib.font_manager:findfont: Font family 'Georgia' not found.\n",
            "WARNING:matplotlib.font_manager:findfont: Font family 'Georgia' not found.\n",
            "WARNING:matplotlib.font_manager:findfont: Font family 'Georgia' not found.\n",
            "WARNING:matplotlib.font_manager:findfont: Font family 'Georgia' not found.\n",
            "WARNING:matplotlib.font_manager:findfont: Font family 'Georgia' not found.\n",
            "WARNING:matplotlib.font_manager:findfont: Font family 'Georgia' not found.\n",
            "WARNING:matplotlib.font_manager:findfont: Font family 'Georgia' not found.\n",
            "WARNING:matplotlib.font_manager:findfont: Font family 'Georgia' not found.\n",
            "WARNING:matplotlib.font_manager:findfont: Font family 'Georgia' not found.\n",
            "WARNING:matplotlib.font_manager:findfont: Font family 'Georgia' not found.\n",
            "WARNING:matplotlib.font_manager:findfont: Font family 'Georgia' not found.\n",
            "WARNING:matplotlib.font_manager:findfont: Font family 'Georgia' not found.\n",
            "WARNING:matplotlib.font_manager:findfont: Font family 'Georgia' not found.\n",
            "WARNING:matplotlib.font_manager:findfont: Font family 'Georgia' not found.\n",
            "WARNING:matplotlib.font_manager:findfont: Font family 'Georgia' not found.\n",
            "WARNING:matplotlib.font_manager:findfont: Font family 'Georgia' not found.\n",
            "WARNING:matplotlib.font_manager:findfont: Font family 'Georgia' not found.\n",
            "WARNING:matplotlib.font_manager:findfont: Font family 'Georgia' not found.\n",
            "WARNING:matplotlib.font_manager:findfont: Font family 'Georgia' not found.\n",
            "WARNING:matplotlib.font_manager:findfont: Font family 'Georgia' not found.\n",
            "WARNING:matplotlib.font_manager:findfont: Font family 'Georgia' not found.\n",
            "WARNING:matplotlib.font_manager:findfont: Font family 'Georgia' not found.\n",
            "WARNING:matplotlib.font_manager:findfont: Font family 'Georgia' not found.\n",
            "WARNING:matplotlib.font_manager:findfont: Font family 'Georgia' not found.\n",
            "WARNING:matplotlib.font_manager:findfont: Font family 'Georgia' not found.\n"
          ]
        },
        {
          "output_type": "execute_result",
          "data": {
            "text/plain": [
              "<Figure size 640x480 with 1 Axes>"
            ],
            "image/png": "[encoded data removed]"
          },
          "metadata": {},
          "execution_count": 19
        }
      ]
    },
    {
      "cell_type": "markdown",
      "source": [
        "WITHOUT INTERCEPTION\n"
      ],
      "metadata": {
        "id": "bPTYsNGWAY3k"
      }
    },
    {
      "cell_type": "code",
      "source": [
        "n = 100\n",
        "## Step 1\n",
        "# Alice generates bits.\n",
        "alice_bits = np.random.randint(0,2,n)\n",
        "\n",
        "## Step 2\n",
        "# Create an array to tell us which qubits\n",
        "# are encoded in which bases\n",
        "alice_bases = np.random.randint(0,2,n)\n",
        "\n",
        "# Function to compare the bits & bases generated by alice, and then 'encode' the message. Basically determines the state of the qubit/photon to send.\n",
        "def encode_message(bits, bases):\n",
        "    message = []\n",
        "    for i in range(n):\n",
        "        qc = QuantumCircuit(1,1)\n",
        "        if bases[i] == 0: # Prepare qubit in Z-basis\n",
        "            if bits[i] == 0:\n",
        "                pass\n",
        "            else:\n",
        "                qc.x(0)\n",
        "        else: # Prepare qubit in X-basis\n",
        "            if bits[i] == 0:\n",
        "                qc.h(0)\n",
        "            else:\n",
        "                qc.x(0)\n",
        "                qc.h(0)\n",
        "        qc.barrier()\n",
        "        message.append(qc)\n",
        "    return message\n",
        "\n",
        "# Alice computes the encoded message using the function defined above.\n",
        "message = encode_message(alice_bits, alice_bases)\n",
        "\n",
        "## Step 3\n",
        "\n",
        "# Decide which basis to measure in:\n",
        "bob_bases = np.random.randint(0,2,n)\n",
        "\n",
        "# Function to decode the message sent by alice by comparing qubit/photon states with Bob's generated bases.\n",
        "def measure_message(message, bases):\n",
        "    backend = Aer.get_backend('aer_simulator')\n",
        "    measurements = []\n",
        "    for q in range(n):\n",
        "        if bases[q] == 0: # measuring in Z-basis\n",
        "            message[q].measure(0,0)\n",
        "        if bases[q] == 1: # measuring in X-basis\n",
        "            message[q].h(0)\n",
        "            message[q].measure(0,0)\n",
        "        # Directly pass the QuantumCircuit to run, not the assembled QasmQobj\n",
        "        # The change is here\n",
        "        result = backend.run(message[q], shots=1, memory=True).result()\n",
        "        measured_bit = int(result.get_memory()[0])\n",
        "        measurements.append(measured_bit)\n",
        "    return measurements\n",
        "\n",
        "# Decode the message according to his bases\n",
        "bob_results = measure_message(message, bob_bases)\n",
        "\n",
        "## Step 4\n",
        "\n",
        "# Function to perform sifting i.e. disregard the bits for which Bob's & A;ice's bases didnot match.\n",
        "def remove_garbage(a_bases, b_bases, bits):\n",
        "    good_bits = []\n",
        "    for q in range(n):\n",
        "        if a_bases[q] == b_bases[q]:\n",
        "            # If both used the same basis, add\n",
        "            # this to the list of 'good' bits\n",
        "            good_bits.append(bits[q])\n",
        "    return good_bits\n",
        "\n",
        "# Performing sifting for Alice's and Bob's bits.\n",
        "alice_key = remove_garbage(alice_bases, bob_bases, alice_bits)\n",
        "bob_key = remove_garbage(alice_bases, bob_bases, bob_results)\n",
        "\n",
        "print(\"Alice's key after sifting (without interception)\", alice_key)\n",
        "print(\"Bob's key after sifting (without interception)  \", bob_key)\n",
        "\n",
        "# # Step 5\n",
        "\n",
        "num = 0\n",
        "for i in range(0,len(bob_key)):\n",
        "    if alice_key[i] == bob_key[i]:\n",
        "        num = num + 1\n",
        "\n",
        "matching_bits = (num/len(bob_key))*100\n",
        "print(matching_bits,\"% of the bits match.\")"
      ],
      "metadata": {
        "colab": {
          "base_uri": "https://localhost:8080/"
        },
        "id": "mD6WmXGN8t0N",
        "outputId": "a725ffce-df19-4b99-c430-867b17be47dd"
      },
      "execution_count": 20,
      "outputs": [
        {
          "output_type": "stream",
          "name": "stdout",
          "text": [
            "Alice's key after sifting (without interception) [0, 0, 0, 0, 1, 1, 0, 1, 0, 0, 1, 0, 0, 0, 1, 1, 0, 1, 0, 0, 1, 0, 1, 1, 0, 1, 0, 1, 0, 1, 1, 0, 1, 1, 1, 1, 0, 0, 0, 0, 0, 0, 0, 1, 1, 0, 0, 0, 0, 0, 1, 0, 0, 0, 1, 1, 1]\n",
            "Bob's key after sifting (without interception)   [0, 0, 0, 0, 1, 1, 0, 1, 0, 0, 1, 0, 0, 0, 1, 1, 0, 1, 0, 0, 1, 0, 1, 1, 0, 1, 0, 1, 0, 1, 1, 0, 1, 1, 1, 1, 0, 0, 0, 0, 0, 0, 0, 1, 1, 0, 0, 0, 0, 0, 1, 0, 0, 0, 1, 1, 1]\n",
            "100.0 % of the bits match.\n"
          ]
        }
      ]
    },
    {
      "cell_type": "markdown",
      "source": [
        "WITH INTERCEPTION\n"
      ],
      "metadata": {
        "id": "uRt89Y9jAchi"
      }
    },
    {
      "cell_type": "code",
      "source": [
        "## Step 1\n",
        "alice_bits = np.random.randint(2, size=n)\n",
        "## Step 2\n",
        "alice_bases = np.random.randint(2, size=n)\n",
        "message = encode_message(alice_bits, alice_bases)\n",
        "## Interception!!\n",
        "eve_bases = np.random.randint(2, size=n)\n",
        "intercepted_message = measure_message(message, eve_bases)\n",
        "## Step 3\n",
        "bob_bases = np.random.randint(2, size=n)\n",
        "bob_results = measure_message(message, bob_bases)\n",
        "## Step 4\n",
        "bob_key = remove_garbage(alice_bases, bob_bases, bob_results)\n",
        "alice_key = remove_garbage(alice_bases, bob_bases, alice_bits)\n",
        "\n",
        "print(\"Alice's key after sifting (with interception)\", alice_key)\n",
        "print(\"Bob's key after sifting (with interception)  \", bob_key)\n",
        "# ## Step 5\n",
        "# sample_size = 15\n",
        "# bit_selection = np.random.randint(n, size=sample_size)\n",
        "# bob_sample = sample_bits(bob_key, bit_selection)\n",
        "# alice_sample = sample_bits(alice_key, bit_selection)\n",
        "\n",
        "num = 0\n",
        "for i in range(0,len(bob_key)):\n",
        "    if alice_key[i] == bob_key[i]:\n",
        "        num = num + 1\n",
        "\n",
        "matching_bits = (num/len(bob_key))*100\n",
        "print(matching_bits,\"% of the bits match.\")"
      ],
      "metadata": {
        "colab": {
          "base_uri": "https://localhost:8080/"
        },
        "id": "8DyRNZyB9JwA",
        "outputId": "ee93010c-3e5a-4558-ea22-20c24329ec96"
      },
      "execution_count": 21,
      "outputs": [
        {
          "output_type": "stream",
          "name": "stdout",
          "text": [
            "Alice's key after sifting (with interception) [0, 0, 0, 0, 0, 1, 0, 0, 1, 1, 1, 1, 1, 1, 0, 1, 0, 0, 0, 0, 1, 1, 1, 0, 1, 1, 1, 0, 0, 0, 0, 0, 0, 1, 0, 0, 0, 0, 1, 0, 0, 1, 1, 0, 1, 0, 1, 1, 0, 1, 0, 0, 1, 1, 1, 0, 1]\n",
            "Bob's key after sifting (with interception)   [0, 0, 1, 0, 1, 1, 0, 0, 1, 0, 0, 1, 0, 1, 1, 0, 0, 1, 1, 1, 1, 1, 0, 1, 0, 0, 1, 1, 0, 1, 1, 0, 0, 1, 0, 0, 0, 1, 1, 1, 1, 1, 0, 0, 1, 0, 0, 1, 0, 1, 0, 0, 1, 1, 1, 0, 1]\n",
            "61.40350877192983 % of the bits match.\n"
          ]
        }
      ]
    },
    {
      "cell_type": "code",
      "source": [
        "plt.rcParams['axes.linewidth'] = 2\n",
        "mpl.rcParams['font.family'] = ['Georgia']\n",
        "\n",
        "plt.figure(figsize=(10.5,6))\n",
        "ax=plt.axes()\n",
        "ax.set_title('')\n",
        "ax.set_xlabel('$n$ (Number of bits drawn from the sifted keys for determining error rate)',fontsize = 18,labelpad=10)\n",
        "ax.set_ylabel(r'$P(Eve\\ detected)$',fontsize = 18,labelpad=10)\n",
        "ax.xaxis.set_tick_params(which='major', size=8, width=2, direction='in', top='on')\n",
        "ax.yaxis.set_tick_params(which='major', size=8, width=2, direction='in', top='on')\n",
        "ax.tick_params(axis='x', labelsize=20)\n",
        "ax.tick_params(axis='y', labelsize=20)\n",
        "ax. xaxis. label. set_size(20)\n",
        "ax. yaxis. label. set_size(20)\n",
        "\n",
        "n = 30\n",
        "x = np.arange(n+1)\n",
        "y = 1 - 0.75**x\n",
        "\n",
        "ax.plot(x,y,color = plt.cm.rainbow(np.linspace(0, 1, 5))[0], marker = \"s\", markerfacecolor='r')"
      ],
      "metadata": {
        "colab": {
          "base_uri": "https://localhost:8080/",
          "height": 1000
        },
        "id": "dOd_HLjz9OGK",
        "outputId": "6af999c4-4fe1-4efe-b31c-b249ee8ed059"
      },
      "execution_count": 22,
      "outputs": [
        {
          "output_type": "execute_result",
          "data": {
            "text/plain": [
              "[<matplotlib.lines.Line2D at 0x782072ef1a50>]"
            ]
          },
          "metadata": {},
          "execution_count": 22
        },
        {
          "output_type": "stream",
          "name": "stderr",
          "text": [
            "WARNING:matplotlib.font_manager:findfont: Font family 'Georgia' not found.\n",
            "WARNING:matplotlib.font_manager:findfont: Font family 'Georgia' not found.\n",
            "WARNING:matplotlib.font_manager:findfont: Font family 'Georgia' not found.\n",
            "WARNING:matplotlib.font_manager:findfont: Font family 'Georgia' not found.\n",
            "WARNING:matplotlib.font_manager:findfont: Font family 'Georgia' not found.\n",
            "WARNING:matplotlib.font_manager:findfont: Font family 'Georgia' not found.\n",
            "WARNING:matplotlib.font_manager:findfont: Font family 'Georgia' not found.\n",
            "WARNING:matplotlib.font_manager:findfont: Font family 'Georgia' not found.\n",
            "WARNING:matplotlib.font_manager:findfont: Font family 'Georgia' not found.\n",
            "WARNING:matplotlib.font_manager:findfont: Font family 'Georgia' not found.\n",
            "WARNING:matplotlib.font_manager:findfont: Font family 'Georgia' not found.\n",
            "WARNING:matplotlib.font_manager:findfont: Font family 'Georgia' not found.\n",
            "WARNING:matplotlib.font_manager:findfont: Font family 'Georgia' not found.\n",
            "WARNING:matplotlib.font_manager:findfont: Font family 'Georgia' not found.\n",
            "WARNING:matplotlib.font_manager:findfont: Font family 'Georgia' not found.\n",
            "WARNING:matplotlib.font_manager:findfont: Font family 'Georgia' not found.\n",
            "WARNING:matplotlib.font_manager:findfont: Font family 'Georgia' not found.\n",
            "WARNING:matplotlib.font_manager:findfont: Font family 'Georgia' not found.\n",
            "WARNING:matplotlib.font_manager:findfont: Font family 'Georgia' not found.\n",
            "WARNING:matplotlib.font_manager:findfont: Font family 'Georgia' not found.\n",
            "WARNING:matplotlib.font_manager:findfont: Font family 'Georgia' not found.\n",
            "WARNING:matplotlib.font_manager:findfont: Font family 'Georgia' not found.\n",
            "WARNING:matplotlib.font_manager:findfont: Font family 'Georgia' not found.\n",
            "WARNING:matplotlib.font_manager:findfont: Font family 'Georgia' not found.\n",
            "WARNING:matplotlib.font_manager:findfont: Font family 'Georgia' not found.\n",
            "WARNING:matplotlib.font_manager:findfont: Font family 'Georgia' not found.\n",
            "WARNING:matplotlib.font_manager:findfont: Font family 'Georgia' not found.\n",
            "WARNING:matplotlib.font_manager:findfont: Font family 'Georgia' not found.\n",
            "WARNING:matplotlib.font_manager:findfont: Font family 'Georgia' not found.\n",
            "WARNING:matplotlib.font_manager:findfont: Font family 'Georgia' not found.\n",
            "WARNING:matplotlib.font_manager:findfont: Font family 'Georgia' not found.\n",
            "WARNING:matplotlib.font_manager:findfont: Font family 'Georgia' not found.\n",
            "WARNING:matplotlib.font_manager:findfont: Font family 'Georgia' not found.\n",
            "WARNING:matplotlib.font_manager:findfont: Font family 'Georgia' not found.\n",
            "WARNING:matplotlib.font_manager:findfont: Font family 'Georgia' not found.\n",
            "WARNING:matplotlib.font_manager:findfont: Font family 'Georgia' not found.\n",
            "WARNING:matplotlib.font_manager:findfont: Font family 'Georgia' not found.\n",
            "WARNING:matplotlib.font_manager:findfont: Font family 'Georgia' not found.\n",
            "WARNING:matplotlib.font_manager:findfont: Font family 'Georgia' not found.\n",
            "WARNING:matplotlib.font_manager:findfont: Font family 'Georgia' not found.\n",
            "WARNING:matplotlib.font_manager:findfont: Font family 'Georgia' not found.\n",
            "WARNING:matplotlib.font_manager:findfont: Font family 'Georgia' not found.\n",
            "WARNING:matplotlib.font_manager:findfont: Font family 'Georgia' not found.\n",
            "WARNING:matplotlib.font_manager:findfont: Font family 'Georgia' not found.\n",
            "WARNING:matplotlib.font_manager:findfont: Font family 'Georgia' not found.\n",
            "WARNING:matplotlib.font_manager:findfont: Font family 'Georgia' not found.\n",
            "WARNING:matplotlib.font_manager:findfont: Font family 'Georgia' not found.\n",
            "WARNING:matplotlib.font_manager:findfont: Font family 'Georgia' not found.\n",
            "WARNING:matplotlib.font_manager:findfont: Font family 'Georgia' not found.\n",
            "WARNING:matplotlib.font_manager:findfont: Font family 'Georgia' not found.\n",
            "WARNING:matplotlib.font_manager:findfont: Font family 'Georgia' not found.\n",
            "WARNING:matplotlib.font_manager:findfont: Font family 'Georgia' not found.\n",
            "WARNING:matplotlib.font_manager:findfont: Font family 'Georgia' not found.\n",
            "WARNING:matplotlib.font_manager:findfont: Font family 'Georgia' not found.\n"
          ]
        },
        {
          "output_type": "display_data",
          "data": {
            "text/plain": [
              "<Figure size 1050x600 with 1 Axes>"
            ],
            "image/png": "[encoded data removed]"
          },
          "metadata": {}
        }
      ]
    }
  ]
}