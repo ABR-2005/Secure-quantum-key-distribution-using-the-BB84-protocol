{
  "nbformat": 4,
  "nbformat_minor": 0,
  "metadata": {
    "colab": {
      "provenance": [],
      "authorship_tag": "ABX9TyONEeI6rD3kI3UYStDSLN+t",
      "include_colab_link": true
    },
    "kernelspec": {
      "name": "python3",
      "display_name": "Python 3"
    },
    "language_info": {
      "name": "python"
    }
  },
  "cells": [
    {
      "cell_type": "markdown",
      "metadata": {
        "id": "view-in-github",
        "colab_type": "text"
      },
      "source": [
        "<a href=\"https://colab.research.google.com/github/ABR-2005/Secure-quantum-key-distribution-using-the-BB84-protocol/blob/main/BB84_protocol_implementation.ipynb\" target=\"_parent\"><img src=\"https://colab.research.google.com/assets/colab-badge.svg\" alt=\"Open In Colab\"/></a>"
      ]
    },
    {
      "cell_type": "code",
      "source": [
        "!pip install qiskit\n"
      ],
      "metadata": {
        "id": "cgY2iLsd4efS",
        "colab": {
          "base_uri": "https://localhost:8080/"
        },
        "outputId": "afa9c599-3edb-4c85-cc8e-99dc18ee4ec9"
      },
      "execution_count": 1,
      "outputs": [
        {
          "output_type": "stream",
          "name": "stdout",
          "text": [
            "Collecting qiskit\n",
            "  Downloading qiskit-1.2.4-cp38-abi3-manylinux_2_17_x86_64.manylinux2014_x86_64.whl.metadata (12 kB)\n",
            "Collecting rustworkx>=0.15.0 (from qiskit)\n",
            "  Downloading rustworkx-0.15.1-cp38-abi3-manylinux_2_17_x86_64.manylinux2014_x86_64.whl.metadata (9.9 kB)\n",
            "Requirement already satisfied: numpy<3,>=1.17 in /usr/local/lib/python3.10/dist-packages (from qiskit) (1.26.4)\n",
            "Requirement already satisfied: scipy>=1.5 in /usr/local/lib/python3.10/dist-packages (from qiskit) (1.13.1)\n",
            "Requirement already satisfied: sympy>=1.3 in /usr/local/lib/python3.10/dist-packages (from qiskit) (1.13.1)\n",
            "Collecting dill>=0.3 (from qiskit)\n",
            "  Downloading dill-0.3.9-py3-none-any.whl.metadata (10 kB)\n",
            "Requirement already satisfied: python-dateutil>=2.8.0 in /usr/local/lib/python3.10/dist-packages (from qiskit) (2.8.2)\n",
            "Collecting stevedore>=3.0.0 (from qiskit)\n",
            "  Downloading stevedore-5.4.0-py3-none-any.whl.metadata (2.3 kB)\n",
            "Requirement already satisfied: typing-extensions in /usr/local/lib/python3.10/dist-packages (from qiskit) (4.12.2)\n",
            "Collecting symengine<0.14,>=0.11 (from qiskit)\n",
            "  Downloading symengine-0.13.0-cp310-cp310-manylinux_2_17_x86_64.manylinux2014_x86_64.whl.metadata (1.2 kB)\n",
            "Requirement already satisfied: six>=1.5 in /usr/local/lib/python3.10/dist-packages (from python-dateutil>=2.8.0->qiskit) (1.16.0)\n",
            "Collecting pbr>=2.0.0 (from stevedore>=3.0.0->qiskit)\n",
            "  Downloading pbr-6.1.0-py2.py3-none-any.whl.metadata (3.4 kB)\n",
            "Requirement already satisfied: mpmath<1.4,>=1.1.0 in /usr/local/lib/python3.10/dist-packages (from sympy>=1.3->qiskit) (1.3.0)\n",
            "Downloading qiskit-1.2.4-cp38-abi3-manylinux_2_17_x86_64.manylinux2014_x86_64.whl (4.8 MB)\n",
            "\u001b[2K   \u001b[90m━━━━━━━━━━━━━━━━━━━━━━━━━━━━━━━━━━━━━━━━\u001b[0m \u001b[32m4.8/4.8 MB\u001b[0m \u001b[31m35.3 MB/s\u001b[0m eta \u001b[36m0:00:00\u001b[0m\n",
            "\u001b[?25hDownloading dill-0.3.9-py3-none-any.whl (119 kB)\n",
            "\u001b[2K   \u001b[90m━━━━━━━━━━━━━━━━━━━━━━━━━━━━━━━━━━━━━━━━\u001b[0m \u001b[32m119.4/119.4 kB\u001b[0m \u001b[31m8.2 MB/s\u001b[0m eta \u001b[36m0:00:00\u001b[0m\n",
            "\u001b[?25hDownloading rustworkx-0.15.1-cp38-abi3-manylinux_2_17_x86_64.manylinux2014_x86_64.whl (2.0 MB)\n",
            "\u001b[2K   \u001b[90m━━━━━━━━━━━━━━━━━━━━━━━━━━━━━━━━━━━━━━━━\u001b[0m \u001b[32m2.0/2.0 MB\u001b[0m \u001b[31m61.2 MB/s\u001b[0m eta \u001b[36m0:00:00\u001b[0m\n",
            "\u001b[?25hDownloading stevedore-5.4.0-py3-none-any.whl (49 kB)\n",
            "\u001b[2K   \u001b[90m━━━━━━━━━━━━━━━━━━━━━━━━━━━━━━━━━━━━━━━━\u001b[0m \u001b[32m49.5/49.5 kB\u001b[0m \u001b[31m3.4 MB/s\u001b[0m eta \u001b[36m0:00:00\u001b[0m\n",
            "\u001b[?25hDownloading symengine-0.13.0-cp310-cp310-manylinux_2_17_x86_64.manylinux2014_x86_64.whl (49.7 MB)\n",
            "\u001b[2K   \u001b[90m━━━━━━━━━━━━━━━━━━━━━━━━━━━━━━━━━━━━━━━━\u001b[0m \u001b[32m49.7/49.7 MB\u001b[0m \u001b[31m18.1 MB/s\u001b[0m eta \u001b[36m0:00:00\u001b[0m\n",
            "\u001b[?25hDownloading pbr-6.1.0-py2.py3-none-any.whl (108 kB)\n",
            "\u001b[2K   \u001b[90m━━━━━━━━━━━━━━━━━━━━━━━━━━━━━━━━━━━━━━━━\u001b[0m \u001b[32m108.5/108.5 kB\u001b[0m \u001b[31m8.3 MB/s\u001b[0m eta \u001b[36m0:00:00\u001b[0m\n",
            "\u001b[?25hInstalling collected packages: symengine, rustworkx, pbr, dill, stevedore, qiskit\n",
            "Successfully installed dill-0.3.9 pbr-6.1.0 qiskit-1.2.4 rustworkx-0.15.1 stevedore-5.4.0 symengine-0.13.0\n"
          ]
        }
      ]
    },
    {
      "cell_type": "code",
      "source": [
        "!pip uninstall -y qiskit\n"
      ],
      "metadata": {
        "id": "C_ueorVv3ePn",
        "colab": {
          "base_uri": "https://localhost:8080/"
        },
        "outputId": "e4110de4-6ddd-4470-d4ed-ad4e1ba448b1"
      },
      "execution_count": 2,
      "outputs": [
        {
          "output_type": "stream",
          "name": "stdout",
          "text": [
            "Found existing installation: qiskit 1.2.4\n",
            "Uninstalling qiskit-1.2.4:\n",
            "  Successfully uninstalled qiskit-1.2.4\n"
          ]
        }
      ]
    },
    {
      "cell_type": "code",
      "source": [
        "!pip install qiskit[all]\n"
      ],
      "metadata": {
        "colab": {
          "base_uri": "https://localhost:8080/"
        },
        "id": "KlwFufzj7W3P",
        "outputId": "46d3f364-9019-40f9-e9cc-5cbacd9ca8ee"
      },
      "execution_count": 3,
      "outputs": [
        {
          "output_type": "stream",
          "name": "stdout",
          "text": [
            "Collecting qiskit[all]\n",
            "  Using cached qiskit-1.2.4-cp38-abi3-manylinux_2_17_x86_64.manylinux2014_x86_64.whl.metadata (12 kB)\n",
            "Requirement already satisfied: rustworkx>=0.15.0 in /usr/local/lib/python3.10/dist-packages (from qiskit[all]) (0.15.1)\n",
            "Requirement already satisfied: numpy<3,>=1.17 in /usr/local/lib/python3.10/dist-packages (from qiskit[all]) (1.26.4)\n",
            "Requirement already satisfied: scipy>=1.5 in /usr/local/lib/python3.10/dist-packages (from qiskit[all]) (1.13.1)\n",
            "Requirement already satisfied: sympy>=1.3 in /usr/local/lib/python3.10/dist-packages (from qiskit[all]) (1.13.1)\n",
            "Requirement already satisfied: dill>=0.3 in /usr/local/lib/python3.10/dist-packages (from qiskit[all]) (0.3.9)\n",
            "Requirement already satisfied: python-dateutil>=2.8.0 in /usr/local/lib/python3.10/dist-packages (from qiskit[all]) (2.8.2)\n",
            "Requirement already satisfied: stevedore>=3.0.0 in /usr/local/lib/python3.10/dist-packages (from qiskit[all]) (5.4.0)\n",
            "Requirement already satisfied: typing-extensions in /usr/local/lib/python3.10/dist-packages (from qiskit[all]) (4.12.2)\n",
            "Requirement already satisfied: symengine<0.14,>=0.11 in /usr/local/lib/python3.10/dist-packages (from qiskit[all]) (0.13.0)\n",
            "Requirement already satisfied: six>=1.5 in /usr/local/lib/python3.10/dist-packages (from python-dateutil>=2.8.0->qiskit[all]) (1.16.0)\n",
            "Requirement already satisfied: pbr>=2.0.0 in /usr/local/lib/python3.10/dist-packages (from stevedore>=3.0.0->qiskit[all]) (6.1.0)\n",
            "Requirement already satisfied: mpmath<1.4,>=1.1.0 in /usr/local/lib/python3.10/dist-packages (from sympy>=1.3->qiskit[all]) (1.3.0)\n",
            "Requirement already satisfied: matplotlib>=3.3 in /usr/local/lib/python3.10/dist-packages (from qiskit[all]) (3.8.0)\n",
            "Requirement already satisfied: pydot in /usr/local/lib/python3.10/dist-packages (from qiskit[all]) (3.0.2)\n",
            "Requirement already satisfied: Pillow>=4.2.1 in /usr/local/lib/python3.10/dist-packages (from qiskit[all]) (11.0.0)\n",
            "Collecting pylatexenc>=1.4 (from qiskit[all])\n",
            "  Downloading pylatexenc-2.10.tar.gz (162 kB)\n",
            "\u001b[2K     \u001b[90m━━━━━━━━━━━━━━━━━━━━━━━━━━━━━━━━━━━━━━━━\u001b[0m \u001b[32m162.6/162.6 kB\u001b[0m \u001b[31m3.4 MB/s\u001b[0m eta \u001b[36m0:00:00\u001b[0m\n",
            "\u001b[?25h  Preparing metadata (setup.py) ... \u001b[?25l\u001b[?25hdone\n",
            "Requirement already satisfied: seaborn>=0.9.0 in /usr/local/lib/python3.10/dist-packages (from qiskit[all]) (0.13.2)\n",
            "Collecting qiskit-qasm3-import>=0.1.0 (from qiskit[all])\n",
            "  Downloading qiskit_qasm3_import-0.5.1-py3-none-any.whl.metadata (7.2 kB)\n",
            "Collecting python-constraint>=1.4 (from qiskit[all])\n",
            "  Downloading python-constraint-1.4.0.tar.bz2 (18 kB)\n",
            "  Preparing metadata (setup.py) ... \u001b[?25l\u001b[?25hdone\n",
            "Collecting z3-solver>=4.7 (from qiskit[all])\n",
            "  Downloading z3_solver-4.13.3.0-py3-none-manylinux_2_17_x86_64.manylinux2014_x86_64.whl.metadata (602 bytes)\n",
            "Requirement already satisfied: contourpy>=1.0.1 in /usr/local/lib/python3.10/dist-packages (from matplotlib>=3.3->qiskit[all]) (1.3.1)\n",
            "Requirement already satisfied: cycler>=0.10 in /usr/local/lib/python3.10/dist-packages (from matplotlib>=3.3->qiskit[all]) (0.12.1)\n",
            "Requirement already satisfied: fonttools>=4.22.0 in /usr/local/lib/python3.10/dist-packages (from matplotlib>=3.3->qiskit[all]) (4.55.0)\n",
            "Requirement already satisfied: kiwisolver>=1.0.1 in /usr/local/lib/python3.10/dist-packages (from matplotlib>=3.3->qiskit[all]) (1.4.7)\n",
            "Requirement already satisfied: packaging>=20.0 in /usr/local/lib/python3.10/dist-packages (from matplotlib>=3.3->qiskit[all]) (24.2)\n",
            "Requirement already satisfied: pyparsing>=2.3.1 in /usr/local/lib/python3.10/dist-packages (from matplotlib>=3.3->qiskit[all]) (3.2.0)\n",
            "Collecting openqasm3<2.0,>=0.4 (from openqasm3[parser]<2.0,>=0.4->qiskit-qasm3-import>=0.1.0->qiskit[all])\n",
            "  Downloading openqasm3-1.0.0-py3-none-any.whl.metadata (6.0 kB)\n",
            "Requirement already satisfied: pandas>=1.2 in /usr/local/lib/python3.10/dist-packages (from seaborn>=0.9.0->qiskit[all]) (2.2.2)\n",
            "Collecting antlr4-python3-runtime<4.14,>=4.7 (from openqasm3[parser]<2.0,>=0.4->qiskit-qasm3-import>=0.1.0->qiskit[all])\n",
            "  Downloading antlr4_python3_runtime-4.13.2-py3-none-any.whl.metadata (304 bytes)\n",
            "Requirement already satisfied: pytz>=2020.1 in /usr/local/lib/python3.10/dist-packages (from pandas>=1.2->seaborn>=0.9.0->qiskit[all]) (2024.2)\n",
            "Requirement already satisfied: tzdata>=2022.7 in /usr/local/lib/python3.10/dist-packages (from pandas>=1.2->seaborn>=0.9.0->qiskit[all]) (2024.2)\n",
            "Using cached qiskit-1.2.4-cp38-abi3-manylinux_2_17_x86_64.manylinux2014_x86_64.whl (4.8 MB)\n",
            "Downloading qiskit_qasm3_import-0.5.1-py3-none-any.whl (27 kB)\n",
            "Downloading z3_solver-4.13.3.0-py3-none-manylinux_2_17_x86_64.manylinux2014_x86_64.whl (28.1 MB)\n",
            "\u001b[2K   \u001b[90m━━━━━━━━━━━━━━━━━━━━━━━━━━━━━━━━━━━━━━━━\u001b[0m \u001b[32m28.1/28.1 MB\u001b[0m \u001b[31m13.2 MB/s\u001b[0m eta \u001b[36m0:00:00\u001b[0m\n",
            "\u001b[?25hDownloading openqasm3-1.0.0-py3-none-any.whl (539 kB)\n",
            "\u001b[2K   \u001b[90m━━━━━━━━━━━━━━━━━━━━━━━━━━━━━━━━━━━━━━━━\u001b[0m \u001b[32m539.8/539.8 kB\u001b[0m \u001b[31m19.3 MB/s\u001b[0m eta \u001b[36m0:00:00\u001b[0m\n",
            "\u001b[?25hDownloading antlr4_python3_runtime-4.13.2-py3-none-any.whl (144 kB)\n",
            "\u001b[2K   \u001b[90m━━━━━━━━━━━━━━━━━━━━━━━━━━━━━━━━━━━━━━━━\u001b[0m \u001b[32m144.5/144.5 kB\u001b[0m \u001b[31m8.1 MB/s\u001b[0m eta \u001b[36m0:00:00\u001b[0m\n",
            "\u001b[?25hBuilding wheels for collected packages: pylatexenc, python-constraint\n",
            "  Building wheel for pylatexenc (setup.py) ... \u001b[?25l\u001b[?25hdone\n",
            "  Created wheel for pylatexenc: filename=pylatexenc-2.10-py3-none-any.whl size=136816 sha256=e8b108ef5fb2225a17b681ff4126e3ff71638dfd6beca1443b8ed988377176cb\n",
            "  Stored in directory: /root/.cache/pip/wheels/d3/31/8b/e09b0386afd80cfc556c00408c9aeea5c35c4d484a9c762fd5\n",
            "  Building wheel for python-constraint (setup.py) ... \u001b[?25l\u001b[?25hdone\n",
            "  Created wheel for python-constraint: filename=python_constraint-1.4.0-py2.py3-none-any.whl size=24059 sha256=265f8792eace6275e2b4b9844c35cfa3b66a5b1565c0ea63362654b9418aa3e7\n",
            "  Stored in directory: /root/.cache/pip/wheels/2e/f2/2b/cb08b5fe129e4f69b7033061f256e5c551b0aa1160c2872aee\n",
            "Successfully built pylatexenc python-constraint\n",
            "Installing collected packages: z3-solver, python-constraint, pylatexenc, openqasm3, antlr4-python3-runtime, qiskit, qiskit-qasm3-import\n",
            "Successfully installed antlr4-python3-runtime-4.13.2 openqasm3-1.0.0 pylatexenc-2.10 python-constraint-1.4.0 qiskit-1.2.4 qiskit-qasm3-import-0.5.1 z3-solver-4.13.3.0\n"
          ]
        }
      ]
    },
    {
      "cell_type": "code",
      "source": [
        "!pip install qiskit-aer\n"
      ],
      "metadata": {
        "colab": {
          "base_uri": "https://localhost:8080/"
        },
        "id": "QaMdOcme7lBu",
        "outputId": "df72c697-da75-42c2-846a-99c577caa878"
      },
      "execution_count": 4,
      "outputs": [
        {
          "output_type": "stream",
          "name": "stdout",
          "text": [
            "Collecting qiskit-aer\n",
            "  Downloading qiskit_aer-0.15.1-cp310-cp310-manylinux_2_17_x86_64.manylinux2014_x86_64.whl.metadata (8.0 kB)\n",
            "Requirement already satisfied: qiskit>=1.1.0 in /usr/local/lib/python3.10/dist-packages (from qiskit-aer) (1.2.4)\n",
            "Requirement already satisfied: numpy>=1.16.3 in /usr/local/lib/python3.10/dist-packages (from qiskit-aer) (1.26.4)\n",
            "Requirement already satisfied: scipy>=1.0 in /usr/local/lib/python3.10/dist-packages (from qiskit-aer) (1.13.1)\n",
            "Requirement already satisfied: psutil>=5 in /usr/local/lib/python3.10/dist-packages (from qiskit-aer) (5.9.5)\n",
            "Requirement already satisfied: rustworkx>=0.15.0 in /usr/local/lib/python3.10/dist-packages (from qiskit>=1.1.0->qiskit-aer) (0.15.1)\n",
            "Requirement already satisfied: sympy>=1.3 in /usr/local/lib/python3.10/dist-packages (from qiskit>=1.1.0->qiskit-aer) (1.13.1)\n",
            "Requirement already satisfied: dill>=0.3 in /usr/local/lib/python3.10/dist-packages (from qiskit>=1.1.0->qiskit-aer) (0.3.9)\n",
            "Requirement already satisfied: python-dateutil>=2.8.0 in /usr/local/lib/python3.10/dist-packages (from qiskit>=1.1.0->qiskit-aer) (2.8.2)\n",
            "Requirement already satisfied: stevedore>=3.0.0 in /usr/local/lib/python3.10/dist-packages (from qiskit>=1.1.0->qiskit-aer) (5.4.0)\n",
            "Requirement already satisfied: typing-extensions in /usr/local/lib/python3.10/dist-packages (from qiskit>=1.1.0->qiskit-aer) (4.12.2)\n",
            "Requirement already satisfied: symengine<0.14,>=0.11 in /usr/local/lib/python3.10/dist-packages (from qiskit>=1.1.0->qiskit-aer) (0.13.0)\n",
            "Requirement already satisfied: six>=1.5 in /usr/local/lib/python3.10/dist-packages (from python-dateutil>=2.8.0->qiskit>=1.1.0->qiskit-aer) (1.16.0)\n",
            "Requirement already satisfied: pbr>=2.0.0 in /usr/local/lib/python3.10/dist-packages (from stevedore>=3.0.0->qiskit>=1.1.0->qiskit-aer) (6.1.0)\n",
            "Requirement already satisfied: mpmath<1.4,>=1.1.0 in /usr/local/lib/python3.10/dist-packages (from sympy>=1.3->qiskit>=1.1.0->qiskit-aer) (1.3.0)\n",
            "Downloading qiskit_aer-0.15.1-cp310-cp310-manylinux_2_17_x86_64.manylinux2014_x86_64.whl (12.3 MB)\n",
            "\u001b[2K   \u001b[90m━━━━━━━━━━━━━━━━━━━━━━━━━━━━━━━━━━━━━━━━\u001b[0m \u001b[32m12.3/12.3 MB\u001b[0m \u001b[31m84.1 MB/s\u001b[0m eta \u001b[36m0:00:00\u001b[0m\n",
            "\u001b[?25hInstalling collected packages: qiskit-aer\n",
            "Successfully installed qiskit-aer-0.15.1\n"
          ]
        }
      ]
    },
    {
      "cell_type": "code",
      "source": [
        "!pip install qiskit-aer  # Reinstalling qiskit-aer to ensure it's available\n",
        "from qiskit_aer import Aer  # Importing Aer directly from qiskit_aer\n",
        "from qiskit import QuantumCircuit\n",
        "print(Aer.backends())"
      ],
      "metadata": {
        "colab": {
          "base_uri": "https://localhost:8080/"
        },
        "id": "_ZJA_yge7zUt",
        "outputId": "c7b714c3-9484-4f9d-a833-4a42924b334c"
      },
      "execution_count": 5,
      "outputs": [
        {
          "output_type": "stream",
          "name": "stdout",
          "text": [
            "Requirement already satisfied: qiskit-aer in /usr/local/lib/python3.10/dist-packages (0.15.1)\n",
            "Requirement already satisfied: qiskit>=1.1.0 in /usr/local/lib/python3.10/dist-packages (from qiskit-aer) (1.2.4)\n",
            "Requirement already satisfied: numpy>=1.16.3 in /usr/local/lib/python3.10/dist-packages (from qiskit-aer) (1.26.4)\n",
            "Requirement already satisfied: scipy>=1.0 in /usr/local/lib/python3.10/dist-packages (from qiskit-aer) (1.13.1)\n",
            "Requirement already satisfied: psutil>=5 in /usr/local/lib/python3.10/dist-packages (from qiskit-aer) (5.9.5)\n",
            "Requirement already satisfied: rustworkx>=0.15.0 in /usr/local/lib/python3.10/dist-packages (from qiskit>=1.1.0->qiskit-aer) (0.15.1)\n",
            "Requirement already satisfied: sympy>=1.3 in /usr/local/lib/python3.10/dist-packages (from qiskit>=1.1.0->qiskit-aer) (1.13.1)\n",
            "Requirement already satisfied: dill>=0.3 in /usr/local/lib/python3.10/dist-packages (from qiskit>=1.1.0->qiskit-aer) (0.3.9)\n",
            "Requirement already satisfied: python-dateutil>=2.8.0 in /usr/local/lib/python3.10/dist-packages (from qiskit>=1.1.0->qiskit-aer) (2.8.2)\n",
            "Requirement already satisfied: stevedore>=3.0.0 in /usr/local/lib/python3.10/dist-packages (from qiskit>=1.1.0->qiskit-aer) (5.4.0)\n",
            "Requirement already satisfied: typing-extensions in /usr/local/lib/python3.10/dist-packages (from qiskit>=1.1.0->qiskit-aer) (4.12.2)\n",
            "Requirement already satisfied: symengine<0.14,>=0.11 in /usr/local/lib/python3.10/dist-packages (from qiskit>=1.1.0->qiskit-aer) (0.13.0)\n",
            "Requirement already satisfied: six>=1.5 in /usr/local/lib/python3.10/dist-packages (from python-dateutil>=2.8.0->qiskit>=1.1.0->qiskit-aer) (1.16.0)\n",
            "Requirement already satisfied: pbr>=2.0.0 in /usr/local/lib/python3.10/dist-packages (from stevedore>=3.0.0->qiskit>=1.1.0->qiskit-aer) (6.1.0)\n",
            "Requirement already satisfied: mpmath<1.4,>=1.1.0 in /usr/local/lib/python3.10/dist-packages (from sympy>=1.3->qiskit>=1.1.0->qiskit-aer) (1.3.0)\n",
            "[AerSimulator('aer_simulator'), AerSimulator('aer_simulator_statevector'), AerSimulator('aer_simulator_density_matrix'), AerSimulator('aer_simulator_stabilizer'), AerSimulator('aer_simulator_matrix_product_state'), AerSimulator('aer_simulator_extended_stabilizer'), AerSimulator('aer_simulator_unitary'), AerSimulator('aer_simulator_superop'), QasmSimulator('qasm_simulator'), StatevectorSimulator('statevector_simulator'), UnitarySimulator('unitary_simulator')]\n"
          ]
        }
      ]
    },
    {
      "cell_type": "code",
      "source": [
        "import matplotlib as mpl\n",
        "import numpy as np\n",
        "import matplotlib.pyplot as plt\n",
        "from qiskit import QuantumCircuit, transpile, assemble\n",
        "from qiskit_aer import Aer  # Import Aer from qiskit_aer instead of qiskit\n",
        "from qiskit.visualization import plot_histogram, plot_bloch_multivector"
      ],
      "metadata": {
        "id": "3cJpo1Ut8Egn"
      },
      "execution_count": 6,
      "outputs": []
    },
    {
      "cell_type": "markdown",
      "source": [
        "WITHOUT INTERCEPTION\n"
      ],
      "metadata": {
        "id": "n2HO0O45AGZx"
      }
    },
    {
      "cell_type": "code",
      "source": [
        "qc = QuantumCircuit(1,1)\n",
        "# Alice prepares qubit in state |+>\n",
        "qc.h(0)\n",
        "qc.barrier()\n",
        "# Alice now sends the qubit to Bob\n",
        "# who measures it in the X-basis\n",
        "qc.h(0)\n",
        "qc.measure(0,0)\n",
        "# Draw and simulate circuit\n",
        "display(qc.draw())\n",
        "aer_sim = Aer.get_backend('aer_simulator')\n",
        "# Pass the QuantumCircuit directly to run, not the assembled QasmQobj\n",
        "job = aer_sim.run(qc,shots=1024)\n",
        "plot_histogram(job.result().get_counts())"
      ],
      "metadata": {
        "colab": {
          "base_uri": "https://localhost:8080/",
          "height": 506
        },
        "id": "ucgmViEA8co8",
        "outputId": "78b1a791-95a7-4651-95b3-d95e0dbfa4d3"
      },
      "execution_count": 7,
      "outputs": [
        {
          "output_type": "display_data",
          "data": {
            "text/plain": [
              "     ┌───┐ ░ ┌───┐┌─┐\n",
              "  q: ┤ H ├─░─┤ H ├┤M├\n",
              "     └───┘ ░ └───┘└╥┘\n",
              "c: 1/══════════════╩═\n",
              "                   0 "
            ],
            "text/html": [
              "<pre style=\"word-wrap: normal;white-space: pre;background: #fff0;line-height: 1.1;font-family: &quot;Courier New&quot;,Courier,monospace\">     ┌───┐ ░ ┌───┐┌─┐\n",
              "  q: ┤ H ├─░─┤ H ├┤M├\n",
              "     └───┘ ░ └───┘└╥┘\n",
              "c: 1/══════════════╩═\n",
              "                   0 </pre>"
            ]
          },
          "metadata": {}
        },
        {
          "output_type": "execute_result",
          "data": {
            "text/plain": [
              "<Figure size 640x480 with 1 Axes>"
            ],
            "image/png": "[encoded data removed]"
          },
          "metadata": {},
          "execution_count": 7
        }
      ]
    },
    {
      "cell_type": "markdown",
      "source": [
        "WITH INTERCEPTION\n"
      ],
      "metadata": {
        "id": "-WSCycTIAVte"
      }
    },
    {
      "cell_type": "code",
      "source": [
        "qc = QuantumCircuit(1,1)\n",
        "# Alice prepares qubit in state |+>\n",
        "qc.h(0)\n",
        "# Alice now sends the qubit to Bob\n",
        "# but Eve intercepts and tries to read it\n",
        "qc.measure(0, 0)\n",
        "qc.barrier()\n",
        "# Eve then passes this on to Bob\n",
        "# who measures it in the X-basis\n",
        "qc.h(0)\n",
        "qc.measure(0,0)\n",
        "\n",
        "# Draw and simulate circuit\n",
        "display(qc.draw())\n",
        "aer_sim = Aer.get_backend('aer_simulator')\n",
        "# Pass the QuantumCircuit directly to run, not the assembled QasmQobj\n",
        "# The shots parameter should be passed as a keyword argument\n",
        "job = aer_sim.run(qc, shots=1024)\n",
        "plot_histogram(job.result().get_counts())"
      ],
      "metadata": {
        "colab": {
          "base_uri": "https://localhost:8080/",
          "height": 506
        },
        "id": "LAHlcY1x8qmm",
        "outputId": "9c1df42f-b6de-43d7-834e-5abbef32e88c"
      },
      "execution_count": 8,
      "outputs": [
        {
          "output_type": "display_data",
          "data": {
            "text/plain": [
              "     ┌───┐┌─┐ ░ ┌───┐┌─┐\n",
              "  q: ┤ H ├┤M├─░─┤ H ├┤M├\n",
              "     └───┘└╥┘ ░ └───┘└╥┘\n",
              "c: 1/══════╩══════════╩═\n",
              "           0          0 "
            ],
            "text/html": [
              "<pre style=\"word-wrap: normal;white-space: pre;background: #fff0;line-height: 1.1;font-family: &quot;Courier New&quot;,Courier,monospace\">     ┌───┐┌─┐ ░ ┌───┐┌─┐\n",
              "  q: ┤ H ├┤M├─░─┤ H ├┤M├\n",
              "     └───┘└╥┘ ░ └───┘└╥┘\n",
              "c: 1/══════╩══════════╩═\n",
              "           0          0 </pre>"
            ]
          },
          "metadata": {}
        },
        {
          "output_type": "execute_result",
          "data": {
            "text/plain": [
              "<Figure size 640x480 with 1 Axes>"
            ],
            "image/png": "[encoded data removed]"
          },
          "metadata": {},
          "execution_count": 8
        }
      ]
    },
    {
      "cell_type": "markdown",
      "source": [
        "WITHOUT INTERCEPTION\n"
      ],
      "metadata": {
        "id": "bPTYsNGWAY3k"
      }
    },
    {
      "cell_type": "code",
      "source": [
        "n = 100\n",
        "## Step 1\n",
        "# Alice generates bits.\n",
        "alice_bits = np.random.randint(0,2,n)\n",
        "\n",
        "## Step 2\n",
        "# Create an array to tell us which qubits\n",
        "# are encoded in which bases\n",
        "alice_bases = np.random.randint(0,2,n)\n",
        "\n",
        "# Function to compare the bits & bases generated by alice, and then 'encode' the message. Basically determines the state of the qubit/photon to send.\n",
        "def encode_message(bits, bases):\n",
        "    message = []\n",
        "    for i in range(n):\n",
        "        qc = QuantumCircuit(1,1)\n",
        "        if bases[i] == 0: # Prepare qubit in Z-basis\n",
        "            if bits[i] == 0:\n",
        "                pass\n",
        "            else:\n",
        "                qc.x(0)\n",
        "        else: # Prepare qubit in X-basis\n",
        "            if bits[i] == 0:\n",
        "                qc.h(0)\n",
        "            else:\n",
        "                qc.x(0)\n",
        "                qc.h(0)\n",
        "        qc.barrier()\n",
        "        message.append(qc)\n",
        "    return message\n",
        "\n",
        "# Alice computes the encoded message using the function defined above.\n",
        "message = encode_message(alice_bits, alice_bases)\n",
        "\n",
        "## Step 3\n",
        "\n",
        "# Decide which basis to measure in:\n",
        "bob_bases = np.random.randint(0,2,n)\n",
        "\n",
        "# Function to decode the message sent by alice by comparing qubit/photon states with Bob's generated bases.\n",
        "def measure_message(message, bases):\n",
        "    backend = Aer.get_backend('aer_simulator')\n",
        "    measurements = []\n",
        "    for q in range(n):\n",
        "        if bases[q] == 0: # measuring in Z-basis\n",
        "            message[q].measure(0,0)\n",
        "        if bases[q] == 1: # measuring in X-basis\n",
        "            message[q].h(0)\n",
        "            message[q].measure(0,0)\n",
        "        # Directly pass the QuantumCircuit to run, not the assembled QasmQobj\n",
        "        # The change is here\n",
        "        result = backend.run(message[q], shots=1, memory=True).result()\n",
        "        measured_bit = int(result.get_memory()[0])\n",
        "        measurements.append(measured_bit)\n",
        "    return measurements\n",
        "\n",
        "# Decode the message according to his bases\n",
        "bob_results = measure_message(message, bob_bases)\n",
        "\n",
        "## Step 4\n",
        "\n",
        "# Function to perform sifting i.e. disregard the bits for which Bob's & A;ice's bases didnot match.\n",
        "def remove_garbage(a_bases, b_bases, bits):\n",
        "    good_bits = []\n",
        "    for q in range(n):\n",
        "        if a_bases[q] == b_bases[q]:\n",
        "            # If both used the same basis, add\n",
        "            # this to the list of 'good' bits\n",
        "            good_bits.append(bits[q])\n",
        "    return good_bits\n",
        "\n",
        "# Performing sifting for Alice's and Bob's bits.\n",
        "alice_key = remove_garbage(alice_bases, bob_bases, alice_bits)\n",
        "bob_key = remove_garbage(alice_bases, bob_bases, bob_results)\n",
        "\n",
        "print(\"Alice's key after sifting (without interception)\", alice_key)\n",
        "print(\"Bob's key after sifting (without interception)  \", bob_key)\n",
        "\n",
        "# # Step 5\n",
        "\n",
        "num = 0\n",
        "for i in range(0,len(bob_key)):\n",
        "    if alice_key[i] == bob_key[i]:\n",
        "        num = num + 1\n",
        "\n",
        "matching_bits = (num/len(bob_key))*100\n",
        "print(matching_bits,\"% of the bits match.\")"
      ],
      "metadata": {
        "colab": {
          "base_uri": "https://localhost:8080/"
        },
        "id": "mD6WmXGN8t0N",
        "outputId": "990da33e-6e00-4e09-95eb-6f52c1d68c57"
      },
      "execution_count": 9,
      "outputs": [
        {
          "output_type": "stream",
          "name": "stdout",
          "text": [
            "Alice's key after sifting (without interception) [0, 0, 1, 0, 1, 1, 0, 0, 0, 0, 1, 1, 1, 0, 1, 1, 0, 0, 1, 0, 1, 1, 1, 1, 1, 0, 0, 1, 1, 1, 1, 1, 0, 0, 0, 0, 1, 0, 0, 1, 1, 0, 1, 1, 1, 0, 0, 1, 0, 0, 1, 1]\n",
            "Bob's key after sifting (without interception)   [0, 0, 1, 0, 1, 1, 0, 0, 0, 0, 1, 1, 1, 0, 1, 1, 0, 0, 1, 0, 1, 1, 1, 1, 1, 0, 0, 1, 1, 1, 1, 1, 0, 0, 0, 0, 1, 0, 0, 1, 1, 0, 1, 1, 1, 0, 0, 1, 0, 0, 1, 1]\n",
            "100.0 % of the bits match.\n"
          ]
        }
      ]
    },
    {
      "cell_type": "markdown",
      "source": [
        "WITH INTERCEPTION\n"
      ],
      "metadata": {
        "id": "uRt89Y9jAchi"
      }
    },
    {
      "cell_type": "code",
      "source": [
        "## Step 1\n",
        "alice_bits = np.random.randint(2, size=n)\n",
        "## Step 2\n",
        "alice_bases = np.random.randint(2, size=n)\n",
        "message = encode_message(alice_bits, alice_bases)\n",
        "## Interception!!\n",
        "eve_bases = np.random.randint(2, size=n)\n",
        "intercepted_message = measure_message(message, eve_bases)\n",
        "## Step 3\n",
        "bob_bases = np.random.randint(2, size=n)\n",
        "bob_results = measure_message(message, bob_bases)\n",
        "## Step 4\n",
        "bob_key = remove_garbage(alice_bases, bob_bases, bob_results)\n",
        "alice_key = remove_garbage(alice_bases, bob_bases, alice_bits)\n",
        "\n",
        "print(\"Alice's key after sifting (with interception)\", alice_key)\n",
        "print(\"Bob's key after sifting (with interception)  \", bob_key)\n",
        "# ## Step 5\n",
        "# sample_size = 15\n",
        "# bit_selection = np.random.randint(n, size=sample_size)\n",
        "# bob_sample = sample_bits(bob_key, bit_selection)\n",
        "# alice_sample = sample_bits(alice_key, bit_selection)\n",
        "\n",
        "num = 0\n",
        "for i in range(0,len(bob_key)):\n",
        "    if alice_key[i] == bob_key[i]:\n",
        "        num = num + 1\n",
        "\n",
        "matching_bits = (num/len(bob_key))*100\n",
        "print(matching_bits,\"% of the bits match.\")"
      ],
      "metadata": {
        "colab": {
          "base_uri": "https://localhost:8080/"
        },
        "id": "8DyRNZyB9JwA",
        "outputId": "a5cd6202-18cd-484c-e848-5efee6ec3f3f"
      },
      "execution_count": 10,
      "outputs": [
        {
          "output_type": "stream",
          "name": "stdout",
          "text": [
            "Alice's key after sifting (with interception) [0, 1, 1, 0, 0, 0, 0, 1, 0, 1, 1, 1, 1, 1, 1, 0, 0, 1, 1, 1, 1, 0, 1, 0, 1, 0, 0, 1, 1, 1, 1, 0, 1, 1, 0, 0, 0, 0, 1, 0, 1, 0, 0, 0, 0, 1, 0]\n",
            "Bob's key after sifting (with interception)   [1, 0, 1, 1, 0, 1, 1, 1, 1, 0, 0, 1, 0, 0, 1, 0, 0, 1, 1, 0, 1, 1, 0, 0, 0, 0, 0, 0, 1, 1, 1, 0, 0, 0, 0, 1, 1, 0, 1, 1, 0, 0, 1, 0, 0, 0, 0]\n",
            "51.06382978723404 % of the bits match.\n"
          ]
        }
      ]
    },
    {
      "cell_type": "code",
      "source": [
        "plt.rcParams['axes.linewidth'] = 2\n",
        "mpl.rcParams['font.family'] = ['Georgia']\n",
        "\n",
        "plt.figure(figsize=(10.5,6))\n",
        "ax=plt.axes()\n",
        "ax.set_title('')\n",
        "ax.set_xlabel('$n$ (Number of bits drawn from the sifted keys for determining error rate)',fontsize = 18,labelpad=10)\n",
        "ax.set_ylabel(r'$P(Eve\\ detected)$',fontsize = 18,labelpad=10)\n",
        "ax.xaxis.set_tick_params(which='major', size=8, width=2, direction='in', top='on')\n",
        "ax.yaxis.set_tick_params(which='major', size=8, width=2, direction='in', top='on')\n",
        "ax.tick_params(axis='x', labelsize=20)\n",
        "ax.tick_params(axis='y', labelsize=20)\n",
        "ax. xaxis. label. set_size(20)\n",
        "ax. yaxis. label. set_size(20)\n",
        "\n",
        "n = 30\n",
        "x = np.arange(n+1)\n",
        "y = 1 - 0.75**x\n",
        "\n",
        "ax.plot(x,y,color = plt.cm.rainbow(np.linspace(0, 1, 5))[0], marker = \"s\", markerfacecolor='r')"
      ],
      "metadata": {
        "colab": {
          "base_uri": "https://localhost:8080/",
          "height": 1000
        },
        "id": "dOd_HLjz9OGK",
        "outputId": "2a193598-5a0c-45ca-cb4d-62411da97adc"
      },
      "execution_count": 11,
      "outputs": [
        {
          "output_type": "execute_result",
          "data": {
            "text/plain": [
              "[<matplotlib.lines.Line2D at 0x78207374a800>]"
            ]
          },
          "metadata": {},
          "execution_count": 11
        },
        {
          "output_type": "stream",
          "name": "stderr",
          "text": [
            "WARNING:matplotlib.font_manager:findfont: Font family 'Georgia' not found.\n",
            "WARNING:matplotlib.font_manager:findfont: Font family 'Georgia' not found.\n",
            "WARNING:matplotlib.font_manager:findfont: Font family 'Georgia' not found.\n",
            "WARNING:matplotlib.font_manager:findfont: Font family 'Georgia' not found.\n",
            "WARNING:matplotlib.font_manager:findfont: Font family 'Georgia' not found.\n",
            "WARNING:matplotlib.font_manager:findfont: Font family 'Georgia' not found.\n",
            "WARNING:matplotlib.font_manager:findfont: Font family 'Georgia' not found.\n",
            "WARNING:matplotlib.font_manager:findfont: Font family 'Georgia' not found.\n",
            "WARNING:matplotlib.font_manager:findfont: Font family ['Georgia'] not found. Falling back to DejaVu Sans.\n",
            "WARNING:matplotlib.font_manager:findfont: Font family 'Georgia' not found.\n",
            "WARNING:matplotlib.font_manager:findfont: Font family 'Georgia' not found.\n",
            "WARNING:matplotlib.font_manager:findfont: Font family 'Georgia' not found.\n",
            "WARNING:matplotlib.font_manager:findfont: Font family 'Georgia' not found.\n",
            "WARNING:matplotlib.font_manager:findfont: Font family 'Georgia' not found.\n",
            "WARNING:matplotlib.font_manager:findfont: Font family 'Georgia' not found.\n",
            "WARNING:matplotlib.font_manager:findfont: Font family 'Georgia' not found.\n",
            "WARNING:matplotlib.font_manager:findfont: Font family 'Georgia' not found.\n",
            "WARNING:matplotlib.font_manager:findfont: Font family 'Georgia' not found.\n",
            "WARNING:matplotlib.font_manager:findfont: Font family 'Georgia' not found.\n",
            "WARNING:matplotlib.font_manager:findfont: Font family 'Georgia' not found.\n",
            "WARNING:matplotlib.font_manager:findfont: Font family 'Georgia' not found.\n",
            "WARNING:matplotlib.font_manager:findfont: Font family 'Georgia' not found.\n",
            "WARNING:matplotlib.font_manager:findfont: Font family 'Georgia' not found.\n",
            "WARNING:matplotlib.font_manager:findfont: Font family 'Georgia' not found.\n",
            "WARNING:matplotlib.font_manager:findfont: Font family 'Georgia' not found.\n",
            "WARNING:matplotlib.font_manager:findfont: Font family 'Georgia' not found.\n",
            "WARNING:matplotlib.font_manager:findfont: Font family 'Georgia' not found.\n",
            "WARNING:matplotlib.font_manager:findfont: Font family 'Georgia' not found.\n",
            "WARNING:matplotlib.font_manager:findfont: Font family 'Georgia' not found.\n",
            "WARNING:matplotlib.font_manager:findfont: Font family 'Georgia' not found.\n",
            "WARNING:matplotlib.font_manager:findfont: Font family 'Georgia' not found.\n",
            "WARNING:matplotlib.font_manager:findfont: Font family 'Georgia' not found.\n",
            "WARNING:matplotlib.font_manager:findfont: Font family 'Georgia' not found.\n",
            "WARNING:matplotlib.font_manager:findfont: Font family 'Georgia' not found.\n",
            "WARNING:matplotlib.font_manager:findfont: Font family 'Georgia' not found.\n",
            "WARNING:matplotlib.font_manager:findfont: Font family 'Georgia' not found.\n",
            "WARNING:matplotlib.font_manager:findfont: Font family 'Georgia' not found.\n",
            "WARNING:matplotlib.font_manager:findfont: Font family 'Georgia' not found.\n",
            "WARNING:matplotlib.font_manager:findfont: Font family 'Georgia' not found.\n",
            "WARNING:matplotlib.font_manager:findfont: Font family 'Georgia' not found.\n",
            "WARNING:matplotlib.font_manager:findfont: Font family 'Georgia' not found.\n",
            "WARNING:matplotlib.font_manager:findfont: Font family 'Georgia' not found.\n",
            "WARNING:matplotlib.font_manager:findfont: Font family 'Georgia' not found.\n",
            "WARNING:matplotlib.font_manager:findfont: Font family 'Georgia' not found.\n",
            "WARNING:matplotlib.font_manager:findfont: Font family 'Georgia' not found.\n",
            "WARNING:matplotlib.font_manager:findfont: Font family 'Georgia' not found.\n",
            "WARNING:matplotlib.font_manager:findfont: Font family 'Georgia' not found.\n",
            "WARNING:matplotlib.font_manager:findfont: Font family 'Georgia' not found.\n",
            "WARNING:matplotlib.font_manager:findfont: Font family 'Georgia' not found.\n",
            "WARNING:matplotlib.font_manager:findfont: Font family 'Georgia' not found.\n",
            "WARNING:matplotlib.font_manager:findfont: Font family 'Georgia' not found.\n",
            "WARNING:matplotlib.font_manager:findfont: Font family 'Georgia' not found.\n",
            "WARNING:matplotlib.font_manager:findfont: Font family 'Georgia' not found.\n",
            "WARNING:matplotlib.font_manager:findfont: Font family 'Georgia' not found.\n",
            "WARNING:matplotlib.font_manager:findfont: Font family 'Georgia' not found.\n"
          ]
        },
        {
          "output_type": "display_data",
          "data": {
            "text/plain": [
              "<Figure size 1050x600 with 1 Axes>"
            ],
            "image/png": "[encoded data removed]"
          },
          "metadata": {}
        }
      ]
    }
  ]
}